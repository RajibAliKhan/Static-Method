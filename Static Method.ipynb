{
 "cells": [
  {
   "cell_type": "code",
   "execution_count": 1,
   "id": "495d86df-b2d9-4e21-82c2-77dfaf8bfff6",
   "metadata": {},
   "outputs": [],
   "source": [
    "class pwskills :\n",
    "    def student_details(self, name, mail, number) :\n",
    "        print(name, mail, number)"
   ]
  },
  {
   "cell_type": "code",
   "execution_count": 2,
   "id": "1dcaa4fb-506f-4394-8c7f-d467f81bf9b6",
   "metadata": {},
   "outputs": [
    {
     "name": "stdout",
     "output_type": "stream",
     "text": [
      "rajib khan@gmail.com 987\n"
     ]
    }
   ],
   "source": [
    "pw = pwskills()\n",
    "pw.student_details('rajib','khan@gmail.com', 987)"
   ]
  },
  {
   "cell_type": "code",
   "execution_count": 12,
   "id": "12e00aa6-96cd-4570-9af2-b117a5d55c5f",
   "metadata": {},
   "outputs": [],
   "source": [
    "# here, I have to create a function that I can use without creating object.\n",
    "\n",
    "class pwskills1 :\n",
    "    \n",
    "    def student_details(self, name, mail, number) :\n",
    "        print(name, mail, number)\n",
    "        \n",
    "    @staticmethod\n",
    "    def mentor_class(list_mentor) :\n",
    "        print(list_mentor)\n",
    "        \n",
    "    def mentor(self, mentor_name) :\n",
    "        print('My mentor name is', mentor_name)"
   ]
  },
  {
   "cell_type": "code",
   "execution_count": 13,
   "id": "e866740d-18b1-48e2-ba30-434b2f96a8d6",
   "metadata": {},
   "outputs": [
    {
     "name": "stdout",
     "output_type": "stream",
     "text": [
      "['rajib', 'ali', 'khan']\n"
     ]
    }
   ],
   "source": [
    "pwskills1.mentor_class(['rajib','ali','khan'])"
   ]
  },
  {
   "cell_type": "code",
   "execution_count": 14,
   "id": "4097d2f6-4d77-4323-a3ab-d9383074765a",
   "metadata": {},
   "outputs": [],
   "source": [
    "student1 = pwskills1()"
   ]
  },
  {
   "cell_type": "code",
   "execution_count": 15,
   "id": "c51f1853-baf4-4a67-9b53-9a700e6620c1",
   "metadata": {},
   "outputs": [],
   "source": [
    "student2 = pwskills1()"
   ]
  },
  {
   "cell_type": "code",
   "execution_count": 16,
   "id": "584e1c26-623f-41f7-8d8d-45ecd3f3aff4",
   "metadata": {},
   "outputs": [],
   "source": [
    "student3 = pwskills1()"
   ]
  },
  {
   "cell_type": "code",
   "execution_count": 17,
   "id": "e043e1ed-8cd6-4932-9a2a-3c240bfd9a32",
   "metadata": {},
   "outputs": [
    {
     "name": "stdout",
     "output_type": "stream",
     "text": [
      "My mentor name is ali\n"
     ]
    }
   ],
   "source": [
    "student1.mentor('ali')"
   ]
  },
  {
   "cell_type": "code",
   "execution_count": 18,
   "id": "133c3af3-ebbf-4fc9-8a95-349e13162485",
   "metadata": {},
   "outputs": [
    {
     "name": "stdout",
     "output_type": "stream",
     "text": [
      "khan\n"
     ]
    }
   ],
   "source": [
    "student2.mentor_class('khan')"
   ]
  },
  {
   "cell_type": "code",
   "execution_count": 19,
   "id": "2a15b3e6-8a1c-481e-b26f-244c6e0999fd",
   "metadata": {},
   "outputs": [
    {
     "name": "stdout",
     "output_type": "stream",
     "text": [
      "My mentor name is khan\n"
     ]
    }
   ],
   "source": [
    "student4 = pwskills1()\n",
    "student4.mentor('khan')"
   ]
  },
  {
   "cell_type": "code",
   "execution_count": 20,
   "id": "b8368e18-4489-42e9-b917-63d46bd25b97",
   "metadata": {},
   "outputs": [],
   "source": [
    "# here, instance methods are student_details, mentor\n",
    "# here, static method id mentor_class\n",
    "# Now, I want to use mentor_class as a instance method.\n",
    "\n",
    "class pwskills2 :\n",
    "    \n",
    "    def student_details(self, name, mail, number) :\n",
    "        print(name, mail, number)\n",
    "        \n",
    "    @staticmethod\n",
    "    def mentor_class(list_mentor) :\n",
    "        print(list_mentor)\n",
    "        \n",
    "    @classmethod\n",
    "    def class_name(cls) :\n",
    "        cls.mentor_class()\n",
    "        \n",
    "    def mentor(self, mentor_name) :\n",
    "        print('My mentor name is', mentor_name)"
   ]
  },
  {
   "cell_type": "code",
   "execution_count": 21,
   "id": "23fd162e-18f8-41d0-af5f-fbd675ce0163",
   "metadata": {},
   "outputs": [
    {
     "ename": "TypeError",
     "evalue": "pwskills2.mentor_class() missing 1 required positional argument: 'list_mentor'",
     "output_type": "error",
     "traceback": [
      "\u001b[0;31m---------------------------------------------------------------------------\u001b[0m",
      "\u001b[0;31mTypeError\u001b[0m                                 Traceback (most recent call last)",
      "Cell \u001b[0;32mIn[21], line 1\u001b[0m\n\u001b[0;32m----> 1\u001b[0m \u001b[43mpwskills2\u001b[49m\u001b[38;5;241;43m.\u001b[39;49m\u001b[43mclass_name\u001b[49m\u001b[43m(\u001b[49m\u001b[43m)\u001b[49m\n",
      "Cell \u001b[0;32mIn[20], line 16\u001b[0m, in \u001b[0;36mpwskills2.class_name\u001b[0;34m(cls)\u001b[0m\n\u001b[1;32m     14\u001b[0m \u001b[38;5;129m@classmethod\u001b[39m\n\u001b[1;32m     15\u001b[0m \u001b[38;5;28;01mdef\u001b[39;00m \u001b[38;5;21mclass_name\u001b[39m(\u001b[38;5;28mcls\u001b[39m) :\n\u001b[0;32m---> 16\u001b[0m     \u001b[38;5;28;43mcls\u001b[39;49m\u001b[38;5;241;43m.\u001b[39;49m\u001b[43mmentor_class\u001b[49m\u001b[43m(\u001b[49m\u001b[43m)\u001b[49m\n",
      "\u001b[0;31mTypeError\u001b[0m: pwskills2.mentor_class() missing 1 required positional argument: 'list_mentor'"
     ]
    }
   ],
   "source": [
    "pwskills2.class_name()"
   ]
  },
  {
   "cell_type": "code",
   "execution_count": null,
   "id": "a92c7ace-e589-445c-b753-9010503b20c6",
   "metadata": {},
   "outputs": [],
   "source": [
    "# here, argument is missing in classmethod\n",
    "# argument = list_mentor"
   ]
  },
  {
   "cell_type": "code",
   "execution_count": 22,
   "id": "23d1efd9-bf9e-49a1-8abb-1150fff0c804",
   "metadata": {},
   "outputs": [],
   "source": [
    "class pwskills2 :\n",
    "    \n",
    "    def student_details(self, name, mail, number) :\n",
    "        print(name, mail, number)\n",
    "        \n",
    "    @staticmethod\n",
    "    def mentor_class(list_mentor) :\n",
    "        print(list_mentor)\n",
    "        \n",
    "    @classmethod\n",
    "    def class_name(cls) :\n",
    "        cls.mentor_class(['Rajib', 'Khan'])\n",
    "        \n",
    "    def mentor(self, mentor_name) :\n",
    "        print('My mentor name is', mentor_name)"
   ]
  },
  {
   "cell_type": "code",
   "execution_count": 23,
   "id": "4594c8e6-ac17-4f8d-860f-084a96837b24",
   "metadata": {},
   "outputs": [
    {
     "name": "stdout",
     "output_type": "stream",
     "text": [
      "['Rajib', 'Khan']\n"
     ]
    }
   ],
   "source": [
    "pwskills2.class_name()"
   ]
  },
  {
   "cell_type": "code",
   "execution_count": 24,
   "id": "d77d94a9-19ea-4374-ac11-2d49a14a7567",
   "metadata": {},
   "outputs": [],
   "source": [
    "# here, I add another static method\n",
    "# I used to run one static method upon another static method.\n",
    "\n",
    "class pwskills2 :\n",
    "    \n",
    "    def student_details(self, name, mail, number) :\n",
    "        print(name, mail, number)\n",
    "        \n",
    "    @staticmethod\n",
    "    def mentor_mail_id(mentor_mail_id) :\n",
    "        print(mentor_mail_id)\n",
    "        \n",
    "    @staticmethod\n",
    "    def mentor_class(list_mentor) :\n",
    "        pwskills2.mentor_mail_id('khan@gmail.com')\n",
    "        print(list_mentor)\n",
    "        \n",
    "    @classmethod\n",
    "    def class_name(cls) :\n",
    "        cls.mentor_class(['Rajib', 'Khan'])\n",
    "        \n",
    "    def mentor(self, mentor_name) :\n",
    "        print('My mentor name is', mentor_name)"
   ]
  },
  {
   "cell_type": "code",
   "execution_count": 27,
   "id": "3089cb2d-ca77-434d-b7ae-3c2a2e0a2274",
   "metadata": {},
   "outputs": [
    {
     "name": "stdout",
     "output_type": "stream",
     "text": [
      "khan@gmail.com\n",
      "rajib\n"
     ]
    }
   ],
   "source": [
    "pwskills2.mentor_class('rajib')"
   ]
  },
  {
   "cell_type": "code",
   "execution_count": 29,
   "id": "6adec5b1-615d-4fb0-93ad-ce2269f54ded",
   "metadata": {},
   "outputs": [],
   "source": [
    "# here I run static method in instance method\n",
    "\n",
    "class pwskills2 :\n",
    "    \n",
    "    def student_details(self, name, mail, number) :\n",
    "        print(name, mail, number)\n",
    "        \n",
    "    @staticmethod\n",
    "    def mentor_mail_id(mentor_mail_id) :\n",
    "        print(mentor_mail_id)\n",
    "        \n",
    "    @staticmethod\n",
    "    def mentor_class(list_mentor) :\n",
    "        pwskills2.mentor_mail_id('khan@gmail.com')\n",
    "        print(list_mentor)\n",
    "        \n",
    "    @classmethod\n",
    "    def class_name(cls) :\n",
    "        cls.mentor_class(['Rajib', 'Khan'])\n",
    "        \n",
    "    def mentor(self, mentor_name) :\n",
    "        print('My mentor name is', mentor_name)\n",
    "        self.mentor_class('rajib')"
   ]
  },
  {
   "cell_type": "code",
   "execution_count": 30,
   "id": "670af84d-8d05-440f-bc60-6a09696be971",
   "metadata": {},
   "outputs": [
    {
     "name": "stdout",
     "output_type": "stream",
     "text": [
      "My mentor name is rajib\n",
      "khan@gmail.com\n",
      "rajib\n"
     ]
    }
   ],
   "source": [
    "p = pwskills2()\n",
    "p.mentor('rajib')"
   ]
  },
  {
   "cell_type": "code",
   "execution_count": null,
   "id": "66e75f85-755e-40e1-b8fb-fc5097bd8d6d",
   "metadata": {},
   "outputs": [],
   "source": []
  }
 ],
 "metadata": {
  "kernelspec": {
   "display_name": "Python 3 (ipykernel)",
   "language": "python",
   "name": "python3"
  },
  "language_info": {
   "codemirror_mode": {
    "name": "ipython",
    "version": 3
   },
   "file_extension": ".py",
   "mimetype": "text/x-python",
   "name": "python",
   "nbconvert_exporter": "python",
   "pygments_lexer": "ipython3",
   "version": "3.10.8"
  }
 },
 "nbformat": 4,
 "nbformat_minor": 5
}
